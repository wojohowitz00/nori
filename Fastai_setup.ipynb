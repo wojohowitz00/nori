{
  "nbformat": 4,
  "nbformat_minor": 0,
  "metadata": {
    "colab": {
      "name": "Fastai_setup.ipynb",
      "version": "0.3.2",
      "provenance": [],
      "private_outputs": true,
      "include_colab_link": true
    },
    "kernelspec": {
      "name": "python3",
      "display_name": "Python 3"
    },
    "accelerator": "GPU"
  },
  "cells": [
    {
      "cell_type": "markdown",
      "metadata": {
        "id": "view-in-github",
        "colab_type": "text"
      },
      "source": [
        "[View in Colaboratory](https://colab.research.google.com/github/wojohowitz00/nori/blob/master/Fastai_setup.ipynb)"
      ]
    },
    {
      "metadata": {
        "id": "RB1izfLfjwnP",
        "colab_type": "text"
      },
      "cell_type": "markdown",
      "source": [
        "**Using Google Colab for Fast.ai**\n",
        "\n",
        "Welcome! Here is my one-stop-shop for getting all the Fast.ai lessons to work on Google Colab. I'll be updating this as I work through new lessons. Let me know if you have suggestions or improvements at @corythesaurus (DM me on Twitter).\n",
        "\n",
        "My general workflow is to open each Fast.ai notebook and make a copy of it to save in my Drive, so I can add in my own cells as needed (and save them for later!). You can do that from within Colab: File > Open Notebook... > click on \"Github\" tab > search for \"fastai\". All the notebooks should be there. Once you open a notebook, you can make a copy of it: File > Save a copy in Drive....\n",
        "\n",
        "Finally, make sure you've enabled the GPU! Edit > Notebook settings > set \"Hardware Accelerator\" to GPU."
      ]
    },
    {
      "metadata": {
        "id": "FpxVtjS9jj5M",
        "colab_type": "text"
      },
      "cell_type": "markdown",
      "source": [
        "## Installing dependencies ##\n",
        "We need to manually install fastai and pytorch. And maybe other things that fastai depends on (see [here](https://github.com/fastai/fastai/blob/master/requirements.txt)).\n",
        "\n",
        "I will be referring to [this fastai forum thread](http://forums.fast.ai/t/colaboratory-and-fastai/10122/6) and [this blogpost](https://towardsdatascience.com/fast-ai-lesson-1-on-google-colab-free-gpu-d2af89f53604) if I get stuck. This is also a handy resource for using pytorch in colab:   https://jovianlin.io/pytorch-with-gpu-in-google-colab/ (and his [example notebook](https://colab.research.google.com/drive/1jxUPzMsAkBboHMQtGyfv5M5c7hU8Ss2c#scrollTo=ed-8FUn2GqQ4)!). And this [post](https://medium.com/@chsafouane/getting-started-with-pytorch-on-google-colab-811c59a656b6)."
      ]
    },
    {
      "metadata": {
        "id": "0KEa0TktjVYR",
        "colab_type": "code",
        "colab": {}
      },
      "cell_type": "code",
      "source": [
        "# Check python version\n",
        "import sys\n",
        "sys.version"
      ],
      "execution_count": 0,
      "outputs": []
    },
    {
      "metadata": {
        "id": "zGPHuKnwjleR",
        "colab_type": "code",
        "colab": {}
      },
      "cell_type": "code",
      "source": [
        "\n",
        "# Install fastai# Insta \n",
        "!pip3 install fastai"
      ],
      "execution_count": 0,
      "outputs": []
    },
    {
      "metadata": {
        "id": "9BrvcfX5jspJ",
        "colab_type": "code",
        "colab": {}
      },
      "cell_type": "code",
      "source": [
        "# Install PyTorch\n",
        "# I haven't needed to do this, but here's how just in case.\n",
        "!pip3 install http://download.pytorch.org/whl/cu80/torch-0.3.0.post4-cp36-cp36m-linux_x86_64.whl \n",
        "!pip3 install torchvision"
      ],
      "execution_count": 0,
      "outputs": []
    },
    {
      "metadata": {
        "id": "en8Kh0l0mDIC",
        "colab_type": "text"
      },
      "cell_type": "markdown",
      "source": [
        "**Special additions for particular lessons**"
      ]
    },
    {
      "metadata": {
        "id": "dspAGWN6jxYR",
        "colab_type": "code",
        "colab": {}
      },
      "cell_type": "code",
      "source": [
        "# Lesson 4\n",
        "!pip3 install spacy\n",
        "!python -m spacy download en"
      ],
      "execution_count": 0,
      "outputs": []
    },
    {
      "metadata": {
        "id": "vJeyzCQUmM5Q",
        "colab_type": "text"
      },
      "cell_type": "markdown",
      "source": [
        "**Import all the libraries**"
      ]
    },
    {
      "metadata": {
        "id": "Qdjwn9tNmJjU",
        "colab_type": "code",
        "colab": {}
      },
      "cell_type": "code",
      "source": [
        "# This file contains all the main external libs we'll use\n",
        "from fastai.imports import *"
      ],
      "execution_count": 0,
      "outputs": []
    },
    {
      "metadata": {
        "id": "ScEaLTmZmXAj",
        "colab_type": "code",
        "colab": {}
      },
      "cell_type": "code",
      "source": [
        "from fastai.transforms import *\n",
        "from fastai.conv_learner import *\n",
        "from fastai.model import *\n",
        "from fastai.dataset import *\n",
        "from fastai.sgdr import *\n",
        "from fastai.plots import *"
      ],
      "execution_count": 0,
      "outputs": []
    },
    {
      "metadata": {
        "id": "tdqEhXi8n3YO",
        "colab_type": "text"
      },
      "cell_type": "markdown",
      "source": [
        "**GPU setup**\n",
        "\n",
        "Google is very generous and gives access to a GPU for CoLab users. Make sure it's enabled: Edit > Notebook settings > set \"Hardware accelerator\" to GPU.\n",
        "\n",
        "The following is just to assuage your fears that you're being rate-limited or otherwise; you don't need to add these cells to your notebooks to get them to run. Just make sure you've enabled the GPU in the notebook settings. This is easy to forget :)"
      ]
    },
    {
      "metadata": {
        "id": "ZRbnJjuVoBnl",
        "colab_type": "text"
      },
      "cell_type": "markdown",
      "source": [
        "**Check that the GPU is available**"
      ]
    },
    {
      "metadata": {
        "id": "ush27F72pNF0",
        "colab_type": "code",
        "colab": {}
      },
      "cell_type": "code",
      "source": [
        "# http://pytorch.org/\n",
        "from os import path\n",
        "from wheel.pep425tags import get_abbr_impl, get_impl_ver, get_abi_tag\n",
        "platform = '{}{}-{}'.format(get_abbr_impl(), get_impl_ver(), get_abi_tag())\n",
        "\n",
        "accelerator = 'cu80' if path.exists('/opt/bin/nvidia-smi') else 'cpu'\n",
        "\n",
        "!pip install -q http://download.pytorch.org/whl/{accelerator}/torch-0.3.0.post4-{platform}-linux_x86_64.whl torchvision\n",
        "import torch"
      ],
      "execution_count": 0,
      "outputs": []
    },
    {
      "metadata": {
        "id": "giAN3YfJn00S",
        "colab_type": "code",
        "colab": {}
      },
      "cell_type": "code",
      "source": [
        "#import torch\n",
        "print(torch.cuda.is_available())\n",
        "print(torch.backends.cudnn.enabled)"
      ],
      "execution_count": 0,
      "outputs": []
    },
    {
      "metadata": {
        "id": "H36F4NcxppKX",
        "colab_type": "text"
      },
      "cell_type": "markdown",
      "source": [
        "**Check how much of the GPU is available**\n",
        "\n",
        "I'm using the following code from a stackoverflow thread to check what % of the GPU is being utilized right now. 100% is bad; 0% is good (all free for me to use!)."
      ]
    },
    {
      "metadata": {
        "id": "Sc3tUtJFpkkz",
        "colab_type": "code",
        "colab": {}
      },
      "cell_type": "code",
      "source": [
        "# memory footprint support libraries/code\n",
        "!ln -sf /opt/bin/nvidia-smi /usr/bin/nvidia-smi\n",
        "!pip install gputil\n",
        "!pip install psutil\n",
        "!pip install humanize\n",
        "import psutil\n",
        "import humanize\n",
        "import os\n",
        "import GPUtil as GPU\n",
        "GPUs = GPU.getGPUs()\n",
        "# XXX: only one GPU on Colab and isn’t guaranteed\n",
        "gpu = GPUs[0]\n",
        "def printm():\n",
        " process = psutil.Process(os.getpid())\n",
        " print(\"Gen RAM Free: \" + humanize.naturalsize( psutil.virtual_memory().available ), \" | Proc size: \" + humanize.naturalsize( process.memory_info().rss))\n",
        " print(\"GPU RAM Free: {0:.0f}MB | Used: {1:.0f}MB | Util {2:3.0f}% | Total {3:.0f}MB\".format(gpu.memoryFree, gpu.memoryUsed, gpu.memoryUtil*100, gpu.memoryTotal))\n",
        "printm()"
      ],
      "execution_count": 0,
      "outputs": []
    },
    {
      "metadata": {
        "id": "_2O9LPhLptI_",
        "colab_type": "code",
        "colab": {}
      },
      "cell_type": "code",
      "source": [
        ""
      ],
      "execution_count": 0,
      "outputs": []
    },
    {
      "metadata": {
        "id": "n1a4EgGPp4sE",
        "colab_type": "text"
      },
      "cell_type": "markdown",
      "source": [
        "**Cloning the fastai git repo**\n",
        "\n",
        "You likely don't actually need to do this, but if you want direct access to the .xls files, or want to inspect or fork their code... clone the fastai repository!\n",
        "\n"
      ]
    },
    {
      "metadata": {
        "id": "5MNKQLRKp8bs",
        "colab_type": "code",
        "colab": {}
      },
      "cell_type": "code",
      "source": [
        "!git clone https://github.com/fastai/courses.git"
      ],
      "execution_count": 0,
      "outputs": []
    },
    {
      "metadata": {
        "id": "eizfeXCop-XM",
        "colab_type": "code",
        "colab": {}
      },
      "cell_type": "code",
      "source": [
        "!pwd"
      ],
      "execution_count": 0,
      "outputs": []
    },
    {
      "metadata": {
        "id": "xEAlLSy0qDvr",
        "colab_type": "code",
        "colab": {}
      },
      "cell_type": "code",
      "source": [
        "!ls courses\n"
      ],
      "execution_count": 0,
      "outputs": []
    },
    {
      "metadata": {
        "id": "nl8QFAC6qGDb",
        "colab_type": "code",
        "colab": {}
      },
      "cell_type": "code",
      "source": [
        "!ls courses/deeplearning1\n"
      ],
      "execution_count": 0,
      "outputs": []
    },
    {
      "metadata": {
        "id": "F6h-nUJPqH0E",
        "colab_type": "code",
        "colab": {}
      },
      "cell_type": "code",
      "source": [
        "!ls courses/deeplearning1/excel\n"
      ],
      "execution_count": 0,
      "outputs": []
    },
    {
      "metadata": {
        "id": "aUhY6AWaqJwL",
        "colab_type": "code",
        "colab": {}
      },
      "cell_type": "code",
      "source": [
        ""
      ],
      "execution_count": 0,
      "outputs": []
    },
    {
      "metadata": {
        "id": "McKPjClFqM_3",
        "colab_type": "text"
      },
      "cell_type": "markdown",
      "source": [
        "**Accessing the fastai data files (lessons 1, 3, 4)**\n",
        "\n",
        "If you get a fastai URL to a .zip or .tgz - follow these directions to import the data into your notebook.\n",
        "\n",
        "Here's the snippet from Lesson 1: The dataset is available at http://files.fast.ai/data/dogscats.zip. You can download it directly on your server by running the following line in your terminal. wget http://files.fast.ai/data/dogscats.zip. You should put the data in a subdirectory of this notebook's directory, called data/. Note that this data is already available in Crestle and the Paperspace fast.ai template."
      ]
    },
    {
      "metadata": {
        "id": "7zNY3nPaqXoD",
        "colab_type": "text"
      },
      "cell_type": "markdown",
      "source": [
        "**If it's a .zip file (lesson 1):**"
      ]
    },
    {
      "metadata": {
        "id": "hoqq9UFgqXsR",
        "colab_type": "text"
      },
      "cell_type": "markdown",
      "source": [
        "**Lesson 1: Dogs & Cats data**"
      ]
    },
    {
      "metadata": {
        "id": "ObyG_6KJqPcB",
        "colab_type": "code",
        "colab": {}
      },
      "cell_type": "code",
      "source": [
        "# Get the file from fast.ai URL, unzip it, and put it into the folder 'data'\n",
        "# Warning: I haven't figured out how to make the unzipping less verbose.\n",
        "!wget http://files.fast.ai/data/dogscats.zip && unzip dogscats.zip -d data/"
      ],
      "execution_count": 0,
      "outputs": []
    },
    {
      "metadata": {
        "id": "lwJrBKpsqf-u",
        "colab_type": "code",
        "colab": {}
      },
      "cell_type": "code",
      "source": [
        "# Check to make sure the data is where you think it is:\n",
        "!ls"
      ],
      "execution_count": 0,
      "outputs": []
    },
    {
      "metadata": {
        "id": "yibrhlwX0O0M",
        "colab_type": "code",
        "colab": {}
      },
      "cell_type": "code",
      "source": [
        "# Check to make sure the folders all unzipped properly:\n",
        "!ls data/dogscats"
      ],
      "execution_count": 0,
      "outputs": []
    },
    {
      "metadata": {
        "id": "jWV-zmOp0Tcc",
        "colab_type": "text"
      },
      "cell_type": "markdown",
      "source": [
        "**If it's a .tgz file (lesson 3 & 4):**"
      ]
    },
    {
      "metadata": {
        "id": "Dp5Fc6no0YeM",
        "colab_type": "text"
      },
      "cell_type": "markdown",
      "source": [
        "**Lesson 3: Rossmann data**"
      ]
    },
    {
      "metadata": {
        "id": "1sUxQSR00RaT",
        "colab_type": "code",
        "colab": {}
      },
      "cell_type": "code",
      "source": [
        "# Get the Rossmann data from the fast.ai URL, and make a nested directory to put it in later. \n",
        "# -p flag from mkdir is to make a parent directory (allows nested directories to be created at once)\n",
        "!wget http://files.fast.ai/part2/lesson14/rossmann.tgz && mkdir -p ~/data/rossmann"
      ],
      "execution_count": 0,
      "outputs": []
    },
    {
      "metadata": {
        "id": "99TvyAjk0U-x",
        "colab_type": "code",
        "colab": {}
      },
      "cell_type": "code",
      "source": [
        "# Unzip the .tgz file\n",
        "# x for extract\n",
        "# -v for verbose    # NOTE: I usually turn this off; it prints a lot...\n",
        "# -z for gnuzip\n",
        "# -f for file (should come at last just before file name)\n",
        "# -C to extract the zipped contents to a different directory\n",
        "!tar -xzf rossmann.tgz -C ~/data/rossmann/"
      ],
      "execution_count": 0,
      "outputs": []
    },
    {
      "metadata": {
        "id": "-iLzzROU0f74",
        "colab_type": "code",
        "colab": {}
      },
      "cell_type": "code",
      "source": [
        "# Remove the .tgz file\n",
        "!rm rossmann.tgz"
      ],
      "execution_count": 0,
      "outputs": []
    },
    {
      "metadata": {
        "id": "6QOGhvYp0iHZ",
        "colab_type": "code",
        "colab": {}
      },
      "cell_type": "code",
      "source": [
        "# Make sure the data's where we think it is:\n",
        "!ls ~/data/rossmann"
      ],
      "execution_count": 0,
      "outputs": []
    },
    {
      "metadata": {
        "id": "Th_ycncX0mtS",
        "colab_type": "text"
      },
      "cell_type": "markdown",
      "source": [
        "**Lesson 4: IMDB data**"
      ]
    },
    {
      "metadata": {
        "id": "kOw6Cgq60j0w",
        "colab_type": "code",
        "colab": {}
      },
      "cell_type": "code",
      "source": [
        "# Get the IMDB data from the fastai URL: \n",
        "!wget http://files.fast.ai/data/aclImdb.tgz"
      ],
      "execution_count": 0,
      "outputs": []
    },
    {
      "metadata": {
        "id": "wDxyv72a0rEC",
        "colab_type": "code",
        "colab": {}
      },
      "cell_type": "code",
      "source": [
        "# Make sure it imported properly:\n",
        "!ls"
      ],
      "execution_count": 0,
      "outputs": []
    },
    {
      "metadata": {
        "id": "xDo2p-9Z0tIH",
        "colab_type": "code",
        "colab": {}
      },
      "cell_type": "code",
      "source": [
        "\n",
        "# Unzip the tgz file\n",
        "# x for extract\n",
        "# -v for verbose    # NOTE: I usually turn this off; it prints a lot...\n",
        "# -z for gnuzip\n",
        "# -f for file (should come at last just before file name)\n",
        "# -C to extract the zipped contents to a different directory\n",
        "!tar -xvzf aclImdb.tgz -C data/"
      ],
      "execution_count": 0,
      "outputs": []
    },
    {
      "metadata": {
        "id": "Vc6mjR3l0uxu",
        "colab_type": "code",
        "colab": {}
      },
      "cell_type": "code",
      "source": [
        "# Remove the original .tgz file\n",
        "!rm aclImdb.tgz"
      ],
      "execution_count": 0,
      "outputs": []
    },
    {
      "metadata": {
        "id": "HHM0ofmH0ygX",
        "colab_type": "code",
        "colab": {}
      },
      "cell_type": "code",
      "source": [
        "# Make sure the data is where we think it is:\n",
        "!ls data/aclImdb"
      ],
      "execution_count": 0,
      "outputs": []
    }
  ]
}